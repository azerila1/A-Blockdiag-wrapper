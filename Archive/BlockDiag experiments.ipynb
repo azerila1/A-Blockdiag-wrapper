{
 "cells": [
  {
   "cell_type": "code",
   "execution_count": 2,
   "metadata": {
    "scrolled": false
   },
   "outputs": [],
   "source": [
    "import numpy as np\n",
    "from importlib import reload \n",
    "import os\n",
    "import io\n",
    "import glob\n",
    "import pyensae\n",
    "from PIL import Image\n",
    "import pandas as pd\n",
    "from PIL import ImageFont\n",
    "from PIL import ImageDraw"
   ]
  },
  {
   "cell_type": "code",
   "execution_count": 3,
   "metadata": {
    "scrolled": false
   },
   "outputs": [
    {
     "name": "stderr",
     "output_type": "stream",
     "text": [
      "c:\\users\\dearanj2\\appdata\\local\\programs\\python\\python36\\lib\\site-packages\\pyensae\\graphhelper\\corrplot.py:19: UserWarning: corrplot.py requires scipy.\n",
      "  warnings.warn(\"corrplot.py requires scipy.\")\n"
     ]
    }
   ],
   "source": [
    "from blockdiag.utils.fontmap import FontMap\n",
    "from blockdiag.utils.fontmap import parse_fontpath\n",
    "from pyensae.graphhelper import draw_diagram\n",
    "import blockdiag\n",
    "import pyensae"
   ]
  },
  {
   "cell_type": "code",
   "execution_count": 1,
   "metadata": {},
   "outputs": [
    {
     "ename": "NameError",
     "evalue": "name 'draw_diagram' is not defined",
     "output_type": "error",
     "traceback": [
      "\u001b[1;31m---------------------------------------------------------------------------\u001b[0m",
      "\u001b[1;31mNameError\u001b[0m                                 Traceback (most recent call last)",
      "\u001b[1;32m<ipython-input-1-76622dbf8bd1>\u001b[0m in \u001b[0;36m<module>\u001b[1;34m\u001b[0m\n\u001b[1;32m----> 1\u001b[1;33m draw_diagram(\"\"\"\n\u001b[0m\u001b[0;32m      2\u001b[0m {\n\u001b[0;32m      3\u001b[0m \u001b[1;33m//\u001b[0m\u001b[0mdefault\u001b[0m \u001b[0msettings\u001b[0m\u001b[0;31m'\u001b[0m\u001b[0mdocumentation\u001b[0m\u001b[1;33m:\u001b[0m\u001b[1;33m\u001b[0m\u001b[0m\n\u001b[0;32m      4\u001b[0m \u001b[1;33m//\u001b[0m \u001b[0mhttp\u001b[0m\u001b[1;33m:\u001b[0m\u001b[1;33m//\u001b[0m\u001b[0mblockdiag\u001b[0m\u001b[1;33m.\u001b[0m\u001b[0mcom\u001b[0m\u001b[1;33m/\u001b[0m\u001b[0men\u001b[0m\u001b[1;33m/\u001b[0m\u001b[0mblockdiag\u001b[0m\u001b[1;33m/\u001b[0m\u001b[0mattributes\u001b[0m\u001b[1;33m/\u001b[0m\u001b[0mdiagram\u001b[0m\u001b[1;33m.\u001b[0m\u001b[0mattributes\u001b[0m\u001b[1;33m.\u001b[0m\u001b[0mhtml\u001b[0m\u001b[0;31m?\u001b[0m\u001b[0mhighlight\u001b[0m\u001b[1;33m=\u001b[0m\u001b[0mdefault\u001b[0m\u001b[1;31m#blockdiag_diagram_attr-default_fontsize\u001b[0m\u001b[1;33m\u001b[0m\u001b[0m\n\u001b[0;32m      5\u001b[0m \u001b[1;33m\u001b[0m\u001b[0m\n",
      "\u001b[1;31mNameError\u001b[0m: name 'draw_diagram' is not defined"
     ]
    }
   ],
   "source": [
    "draw_diagram(\"\"\"\n",
    "{\n",
    "//default settings'documentation:\n",
    "// http://blockdiag.com/en/blockdiag/attributes/diagram.attributes.html?highlight=default#blockdiag_diagram_attr-default_fontsize\n",
    "\n",
    "   orientation = portrait\n",
    "        1 -> 2; 1 [label = \"sdsadsd s \\n dsd \\% adsdd dsad\"]\n",
    "        2 -- 3;\n",
    "        3 -- 4;   \n",
    "        4 -> 5;\n",
    "        5 -> 6; \n",
    "        6 -- 7;\n",
    "        5 -> 8;\n",
    "        4 -- 9;\n",
    "        2 -- 10;\n",
    "        2 -- 11;\n",
    "        2 -> 9;\n",
    "        \n",
    "    //define default node sizes\n",
    "        node_width =130;\n",
    "        node_height = 50;\n",
    "        \n",
    "     // set default colors\n",
    "  default_node_color = \"#d3d3d3\";\n",
    "  default_group_color = \"#7777FF\";\n",
    "  default_linecolor = black;\n",
    "\n",
    "      1 [color  = \"#008080\"];\n",
    "      \n",
    "    \n",
    "      group {\n",
    "          label = \"Third group\";\n",
    "          color = \"#7777FF\";\n",
    "\n",
    "          // Set group shape to 'line group' (default is box)\n",
    "          shape = line;\n",
    "\n",
    "          // Set line style (effects to 'line group' only)\n",
    "          style = dashed;\n",
    "\n",
    "           6 -> 8 ->7;\n",
    "      }\n",
    "\n",
    "          \n",
    "}\"\"\",format='pillow')"
   ]
  },
  {
   "cell_type": "code",
   "execution_count": 70,
   "metadata": {
    "scrolled": true
   },
   "outputs": [
    {
     "data": {
      "image/png": "[encoded data removed]",
      "text/plain": [
       "<PIL.PngImagePlugin.PngImageFile image mode=RGB size=640x595 at 0x1C48615F588>"
      ]
     },
     "execution_count": 70,
     "metadata": {},
     "output_type": "execute_result"
    }
   ],
   "source": [
    "block_diagram_PIL = draw_diagram(\"\"\"\n",
    "{\n",
    "   orientation = portrait\n",
    "        1 -> 2;\n",
    "        2 -- 3;\n",
    "        3 -- 4;   \n",
    "        4 -> 5;\n",
    "        5 -> 6; \n",
    "        6 -- 7;\n",
    "        5 -> 8;\n",
    "        4 -- 9;\n",
    "        2 -- 10;\n",
    "        2 -- 11;\n",
    "        2 -> 9;\n",
    "        \n",
    "    1 [height = 35];\n",
    "    1 [width = 100]; \n",
    "    2 [height = 40];\n",
    "    2 [width = 100]\n",
    "    3 [height = 35];\n",
    "    3 [width = 100]\n",
    "        \n",
    "\n",
    "      1 [color  = \"#ff0000\"];\n",
    "      2 [color  = \"#00ff00\"];\n",
    "      11 [color  = \"#00ffff\"];\n",
    "      \n",
    "          \n",
    "}\"\"\",format='pillow')\n",
    "block_diagram_array=np.array(block_diagram_PIL)\n",
    "\n",
    "# drawing the gray box used for all cells\n",
    "box_height=50\n",
    "box_width=150\n",
    "\n",
    "gray_box=np.zeros((box_height,box_width,3))+(150,150,150)\n",
    "gray_box=Image.fromarray(gray_box.astype('uint8'))\n",
    "\n",
    "draw = ImageDraw.Draw(gray_box)\n",
    "font = ImageFont.truetype('arial.ttf', 10)\n",
    "draw.text((62,17),'AAAA',(0,0,0),font=font)\n",
    "\n",
    "# pasting the above box on the BlockDiag output image where the block with color '#ff0000' resides\n",
    "\n",
    "hex_label='#ff0000'\n",
    "# converting hex string to rgb\n",
    "rgb=tuple(int(hex_label.lstrip('#')[i:i+2], 16) for i in (0, 2 ,4))\n",
    "# resizing the gray box\n",
    "gray_box.thumbnail((190,55), Image.ANTIALIAS)\n",
    "box_idx=np.where(np.multiply(block_diagram_array[:,:,0]==rgb[0],\n",
    "                             block_diagram_array[:,:,1]==rgb[1],\n",
    "                             block_diagram_array[:,:,2]==rgb[2]))\n",
    "x_coordinate=int(np.min(box_idx[1]))\n",
    "y_coordinate=int(np.min(box_idx[0]))\n",
    "block_diagram_PIL.paste(gray_box, (x_coordinate-25,y_coordinate-4))\n",
    "\n",
    "# pasting the flag picture\n",
    "flag_img = Image.open('britain_flag.png', 'r')\n",
    "flag_img.thumbnail((35,35), Image.ANTIALIAS) # resizing the flag\n",
    "block_diagram_PIL.paste(flag_img, (x_coordinate+100,y_coordinate+15))\n",
    "\n",
    "#block_diagram_PIL.save('output.png')\n",
    "block_diagram_PIL"
   ]
  }
 ],
 "metadata": {
  "kernelspec": {
   "display_name": "Python 3",
   "language": "python",
   "name": "python3"
  },
  "language_info": {
   "codemirror_mode": {
    "name": "ipython",
    "version": 3
   },
   "file_extension": ".py",
   "mimetype": "text/x-python",
   "name": "python",
   "nbconvert_exporter": "python",
   "pygments_lexer": "ipython3",
   "version": "3.6.8"
  }
 },
 "nbformat": 4,
 "nbformat_minor": 2
}
